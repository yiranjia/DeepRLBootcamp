{
 "cells": [
  {
   "cell_type": "code",
   "execution_count": 1,
   "metadata": {
    "collapsed": true
   },
   "outputs": [],
   "source": [
    "\"\"\"\n",
    "This project was developed by Peter Chen, Rocky Duan, Pieter Abbeel for the Berkeley Deep RL Bootcamp, August 2017.\n",
    "Bootcamp website with slides and lecture videos: https://sites.google.com/view/deep-rl-bootcamp/.\n",
    "\n",
    "Code adapted from Stanford CS231N materials: http://cs231n.stanford.edu/\n",
    "\"\"\"\n",
    "\n",
    "\n",
    "# note to properly run this lab, you should execute all code blocks sequentially\n",
    "import chainer\n",
    "import chainer.functions as F\n",
    "import chainer.links as L\n",
    "from chainer import training\n",
    "from chainer.training import extensions\n",
    "\n",
    "from collections import namedtuple, defaultdict, deque\n",
    "\n",
    "import numpy as np\n",
    "\n",
    "%matplotlib inline\n",
    "\n",
    "import matplotlib\n",
    "import matplotlib.pyplot as plt"
   ]
  },
  {
   "cell_type": "markdown",
   "metadata": {},
   "source": [
    "## Introduction to Chainer\n",
    "\n",
    "Chainer can be understood as Numpy plus the ability to record the computation graph of numerical operations to enable Automatic Differentiation. (Chainer actually also offers many other things; for example, a Numpy equivalent library that runs on GPU, but we will ignore them for now)"
   ]
  },
  {
   "cell_type": "markdown",
   "metadata": {},
   "source": [
    "Let's illustrate how Chainer works by a simple 1D regression task.\n",
    "\n",
    "Suppose we have observations from the following model $y = w x + b + \\epsilon$ where $\\epsilon \\sim \\mathcal{N}(0, 0.1)$ and the task is to estimate the linear model parameters $w, b$ from data."
   ]
  },
  {
   "cell_type": "code",
   "execution_count": 2,
   "metadata": {},
   "outputs": [
    {
     "data": {
      "image/png": "[encoded data removed]",
      "text/plain": [
       "<matplotlib.figure.Figure at 0x11391f7b8>"
      ]
     },
     "metadata": {},
     "output_type": "display_data"
    }
   ],
   "source": [
    "# first generate some observations\n",
    "true_a = 1.3\n",
    "true_b = 0.4\n",
    "data_x = (np.arange(100) / 99.0 - .5).astype(np.float32) # Chainer assumes all the cpu computation is done in float32\n",
    "data_y = (data_x * true_a + true_b + np.random.randn(*data_x.shape) * 0.1).astype(np.float32)\n",
    "_ = plt.scatter(data_x, data_y, c='b')"
   ]
  },
  {
   "cell_type": "markdown",
   "metadata": {},
   "source": [
    "Chainer provides an abstraction called `Link` that describe some computation and keeps track of parameters for it. For instance, a `Linear` link describes a linear map on input and keeps track of `w` and bias `b`."
   ]
  },
  {
   "cell_type": "code",
   "execution_count": 3,
   "metadata": {},
   "outputs": [
    {
     "name": "stdout",
     "output_type": "stream",
     "text": [
      "w: variable W([[ 0.76661938]])\n",
      "b: variable b([ 0.])\n",
      "Operations on chainer.Variable: variable([[ 123.76661682]]), type: <class 'chainer.variable.Variable'>\n",
      "numpy arrays: [[ 0.76661938]] [[ 123.76661682]]\n"
     ]
    }
   ],
   "source": [
    "model = L.Linear(in_size=1, out_size=1) # input is 1D data and output is also 1D data\n",
    "\n",
    "# Chainer will randomly initialize `w` and `b` for us.\n",
    "# we can take a look at their values\n",
    "print(\"w:\", model.W)\n",
    "print(\"b:\", model.b)\n",
    "\n",
    "# model.W and model.b have type `chainer.Variable`, \n",
    "#   which is a wrapper around Numpy array\n",
    "assert isinstance(model.W, chainer.Variable)\n",
    "\n",
    "# operations that involve `chainer.Variable` will produce\n",
    "#   `chainer.Variable` and this records the computation graph\n",
    "var_result = model.W + 123 # some random computation\n",
    "print(\"Operations on chainer.Variable: %s, type: %s\" % (var_result, type(var_result)))\n",
    "\n",
    "# the underlying numpy array can be accessed by `data` attribute\n",
    "print(\"numpy arrays:\", model.W.data, var_result.data)"
   ]
  },
  {
   "cell_type": "code",
   "execution_count": 4,
   "metadata": {},
   "outputs": [
    {
     "data": {
      "image/png": "[encoded data removed]",
      "text/plain": [
       "<matplotlib.figure.Figure at 0x113948048>"
      ]
     },
     "metadata": {},
     "output_type": "display_data"
    }
   ],
   "source": [
    "# A chainer link is a callable object. calling it performs the\n",
    "#   forward computation. (in this case, it performs Wx + b)\n",
    "model_y = model(data_x[:, None]) # chainer's link usually assumes input is [Batch Size, Input Dimension]\n",
    "# `model_y` is a chainer variable so we use `.data` to access its numpy array for plotting\n",
    "\n",
    "# we can plot the model's current fit in red. it should be terrible because we haven't trained it yet\n",
    "_ = plt.plot(data_x, model_y.data[:,0], c='r')\n",
    "_ = plt.scatter(data_x, data_y, c='b')\n",
    "_ = plt.title(\"Initial model\")"
   ]
  },
  {
   "cell_type": "code",
   "execution_count": 5,
   "metadata": {},
   "outputs": [
    {
     "name": "stdout",
     "output_type": "stream",
     "text": [
      "loss variable(0.204086571931839)\n",
      "dloss/dW [[-0.09054618]]\n"
     ]
    }
   ],
   "source": [
    "# now let's walk through how to perform forward computation\n",
    "#  and use AD to get gradients\n",
    "\n",
    "# first we clear the gradients that are stored in the model\n",
    "model.cleargrads()\n",
    "# as we have seen we can perform forward computation by calling the link\n",
    "model_y = model(data_x[:, None])\n",
    "\n",
    "# remember that `model_y` is a chainer variable. to operate on chainer variable\n",
    "#    we will use functions from chainer.functions to operate on those objects.\n",
    "loss = F.mean(F.square(model_y - data_y[:, None]))\n",
    "# `loss` is a scalar chainer variable\n",
    "assert isinstance(loss, chainer.Variable)\n",
    "print(\"loss\", loss)\n",
    "# calculating gradients d loss /d params is as simple as\n",
    "loss.backward()\n",
    "\n",
    "# we can inspect the gradient of loss with respect to W\n",
    "print(\"dloss/dW\", model.W.grad)"
   ]
  },
  {
   "cell_type": "markdown",
   "metadata": {},
   "source": [
    "Now that we know how to calculate gradients, we can code up a simple loop to perform gradient descent to train this model:\n",
    "\n",
    "(Hint: if you run into weird problems, maybe the state has been messed up and you can try re-runing all the code blocks from the beginning)"
   ]
  },
  {
   "cell_type": "code",
   "execution_count": 13,
   "metadata": {},
   "outputs": [
    {
     "name": "stdout",
     "output_type": "stream",
     "text": [
      "Itr 0 loss: variable(0.22421370446681976)\n",
      "Itr 25 loss: variable(0.04220860078930855)\n",
      "Itr 50 loss: variable(0.03131996467709541)\n",
      "Itr 75 loss: variable(0.024770788848400116)\n"
     ]
    },
    {
     "data": {
      "image/png": "[encoded data removed]",
      "text/plain": [
       "<matplotlib.figure.Figure at 0x1178dd828>"
      ]
     },
     "metadata": {},
     "output_type": "display_data"
    },
    {
     "data": {
      "image/png": "[encoded data removed]",
      "text/plain": [
       "<matplotlib.figure.Figure at 0x116cecb00>"
      ]
     },
     "metadata": {},
     "output_type": "display_data"
    }
   ],
   "source": [
    "# now we can perform gradient descent to improve this model\n",
    "model = L.Linear(in_size=1, out_size=1)\n",
    "losses = []\n",
    "\n",
    "LR = .05\n",
    "\n",
    "\n",
    "for i in range(100):\n",
    "    model.cleargrads()\n",
    "    loss = F.mean(F.square(model(data_x[:, None]) - data_y[:, None]))\n",
    "    losses.append(float(loss.data))\n",
    "    ## *** YOUR CODE HERE TO PERFORM GRADIENT DESCENT ***\n",
    "    ## Hint: you could access gradients with model.W.grad, model.b.grad\n",
    "    ## Hint2: you could write data into a parameter with model.W.data[:] = some_numpy_array\n",
    "    ## Hint3: if your model doesn't learn, remember to try different learning rates\n",
    "    \n",
    "    loss.backward()\n",
    "    model.W.data[:] = model.W.data - model.W.grad * LR\n",
    "    model.b.data[:] = model.b.data - model.b.grad * LR\n",
    "    \n",
    "    \n",
    "    \n",
    "    \n",
    "    if i % 25 == 0:\n",
    "        print(\"Itr\", i, \"loss:\", loss)\n",
    "plt.plot(np.array(losses))\n",
    "plt.title(\"Learning curve\")\n",
    "plt.figure()\n",
    "plt.plot(data_x, model(data_x[:, None])[:,0].data, c='r')\n",
    "plt.scatter(data_x, data_y, c='b')\n",
    "_ = plt.title(\"Trained model fitness\")\n"
   ]
  },
  {
   "cell_type": "markdown",
   "metadata": {},
   "source": [
    "## Train your first deep model\n",
    "\n",
    "Now we have learned the basics of Chainer. We can use it to train a deep model to classify MNIST digits. We will train a model on the MNIST dataset because the dataset is small.\n",
    "\n",
    "First we load the data and see what the images look like:"
   ]
  },
  {
   "cell_type": "code",
   "execution_count": 14,
   "metadata": {
    "scrolled": false
   },
   "outputs": [
    {
     "name": "stdout",
     "output_type": "stream",
     "text": [
      "Downloading from http://yann.lecun.com/exdb/mnist/train-images-idx3-ubyte.gz...\n",
      "Downloading from http://yann.lecun.com/exdb/mnist/train-labels-idx1-ubyte.gz...\n",
      "Downloading from http://yann.lecun.com/exdb/mnist/t10k-images-idx3-ubyte.gz...\n",
      "Downloading from http://yann.lecun.com/exdb/mnist/t10k-labels-idx1-ubyte.gz...\n",
      "train[i][0] is the ith image that's flattened, and has shape: (784,)\n",
      "train[i][1] is the ith image's label, such as: 3\n"
     ]
    },
    {
     "data": {
      "image/png": "[encoded data removed]",
      "text/plain": [
       "<matplotlib.figure.Figure at 0x1179673c8>"
      ]
     },
     "metadata": {},
     "output_type": "display_data"
    },
    {
     "data": {
      "image/png": "[encoded data removed]",
      "text/plain": [
       "<matplotlib.figure.Figure at 0x1173c79b0>"
      ]
     },
     "metadata": {},
     "output_type": "display_data"
    }
   ],
   "source": [
    "train, test = chainer.datasets.get_mnist()\n",
    "# use train[data_point_index] to access data\n",
    "print(\"train[i][0] is the ith image that's flattened, and has shape:\", train[12][0].shape)\n",
    "print(\"train[i][1] is the ith image's label, such as:\", train[12][1])\n",
    "# here we visualize two of them\n",
    "plt.imshow(train[12][0].reshape([28, 28,]))\n",
    "plt.title(\"Label: %s\" % train[12][1])\n",
    "plt.figure()\n",
    "plt.imshow(train[42][0].reshape([28, 28,]))\n",
    "_ = plt.title(\"Label: %s\" % train[42][1])"
   ]
  },
  {
   "cell_type": "markdown",
   "metadata": {},
   "source": [
    "Next we will provide some boilerplate code and train a linear classifier as an example:"
   ]
  },
  {
   "cell_type": "code",
   "execution_count": 15,
   "metadata": {},
   "outputs": [
    {
     "name": "stdout",
     "output_type": "stream",
     "text": [
      "accuracy: 0.1875; loss: 2.14462971687\n",
      "accuracy: 0.885; loss: 0.545973672867\n",
      "accuracy: 0.8675; loss: 0.494404861927\n",
      "accuracy: 0.92; loss: 0.372967432141\n",
      "accuracy: 0.89; loss: 0.360387668312\n",
      "accuracy: 0.8975; loss: 0.425872761607\n",
      "accuracy: 0.88; loss: 0.412192765176\n",
      "accuracy: 0.915; loss: 0.348401806355\n",
      "accuracy: 0.905; loss: 0.310717451274\n",
      "accuracy: 0.92; loss: 0.276164855957\n",
      "accuracy: 0.9075; loss: 0.291013873219\n",
      "accuracy: 0.93; loss: 0.22698777467\n",
      "accuracy: 0.9125; loss: 0.236822464764\n",
      "accuracy: 0.935; loss: 0.282688458264\n",
      "accuracy: 0.9325; loss: 0.251070786119\n",
      "accuracy: 0.9375; loss: 0.245642882884\n",
      "accuracy: 0.9; loss: 0.373569532633\n",
      "accuracy: 0.925; loss: 0.273875769526\n",
      "accuracy: 0.905; loss: 0.326702466309\n",
      "accuracy: 0.915; loss: 0.275894036591\n",
      "accuracy: 0.91; loss: 0.368886263371\n",
      "accuracy: 0.93; loss: 0.262420639098\n",
      "accuracy: 0.925; loss: 0.26308311969\n",
      "accuracy: 0.9425; loss: 0.231482497454\n",
      "accuracy: 0.9225; loss: 0.261398039162\n",
      "accuracy: 0.91; loss: 0.304217866361\n"
     ]
    }
   ],
   "source": [
    "def run(model, batchsize=16, num_epochs=2):\n",
    "    \n",
    "    optimizer = chainer.optimizers.Adam() # we will use chainer's Adam implementation instead of writing our own gradient based optimization\n",
    "    optimizer.setup(model)\n",
    "    \n",
    "    stats = defaultdict(lambda: deque(maxlen=25))\n",
    "    for epoch in range(num_epochs):\n",
    "        train_iter = chainer.iterators.SerialIterator(train, batchsize, repeat=False, shuffle=True)\n",
    "        test_iter = chainer.iterators.SerialIterator(test, batchsize, repeat=False, shuffle=False)\n",
    "        \n",
    "        for itr, batch in enumerate(train_iter):\n",
    "            xs = np.concatenate([datum[0][None, :] for datum in batch])\n",
    "            ys = np.array([datum[1] for datum in batch])\n",
    "\n",
    "            logits = model(xs)\n",
    "\n",
    "            \n",
    "            loss = F.softmax_cross_entropy(logits, ys)\n",
    "            model.cleargrads()\n",
    "            loss.backward()\n",
    "            optimizer.update()\n",
    "            \n",
    "            # calculate stats\n",
    "            stats[\"loss\"].append(float(loss.data))\n",
    "            stats[\"accuracy\"].append(float((logits.data.argmax(1) == ys).sum() / batchsize))\n",
    "            if itr % 300 == 0:\n",
    "                print(\"; \".join(\"%s: %s\" % (k, np.mean(vs)) for k, vs in stats.items()))\n",
    "                \n",
    "\n",
    "# try a simple linear model\n",
    "run(L.Linear(None, 10))"
   ]
  },
  {
   "cell_type": "markdown",
   "metadata": {},
   "source": [
    "Next we will try to improve performance by training an MLP instead. A partial implementation is provided for you to fill in:"
   ]
  },
  {
   "cell_type": "code",
   "execution_count": 20,
   "metadata": {},
   "outputs": [
    {
     "name": "stdout",
     "output_type": "stream",
     "text": [
      "accuracy: 0.0625; loss: 2.30375576019\n",
      "accuracy: 0.8525; loss: 1.61266658783\n",
      "accuracy: 0.9125; loss: 1.54955395222\n",
      "accuracy: 0.9025; loss: 1.56819638729\n",
      "accuracy: 0.91; loss: 1.55714966297\n",
      "accuracy: 0.94; loss: 1.52803215981\n",
      "accuracy: 0.92; loss: 1.53934510231\n",
      "accuracy: 0.9325; loss: 1.52818367004\n",
      "accuracy: 0.93; loss: 1.53835316181\n",
      "accuracy: 0.945; loss: 1.51661780357\n",
      "accuracy: 0.92; loss: 1.5395772028\n",
      "accuracy: 0.93; loss: 1.52943302155\n",
      "accuracy: 0.9425; loss: 1.51929605961\n",
      "accuracy: 0.9375; loss: 1.52550571442\n",
      "accuracy: 0.955; loss: 1.50786054611\n",
      "accuracy: 0.9275; loss: 1.53099058151\n",
      "accuracy: 0.93; loss: 1.53140762806\n",
      "accuracy: 0.9525; loss: 1.51345609665\n",
      "accuracy: 0.965; loss: 1.50049686432\n",
      "accuracy: 0.945; loss: 1.51986858368\n",
      "accuracy: 0.96; loss: 1.50177262306\n",
      "accuracy: 0.9425; loss: 1.52311564445\n",
      "accuracy: 0.9475; loss: 1.51137077808\n",
      "accuracy: 0.965; loss: 1.49763025761\n",
      "accuracy: 0.96; loss: 1.49986047268\n",
      "accuracy: 0.9625; loss: 1.49765296936\n"
     ]
    }
   ],
   "source": [
    "class MLP(chainer.Chain):\n",
    "\n",
    "    def __init__(self, n_units, n_out):\n",
    "        super(MLP, self).__init__()\n",
    "        with self.init_scope():\n",
    "            # the size of the inputs to each layer will be inferred\n",
    "            self.l1 = L.Linear(None, n_units)  # n_in -> n_units\n",
    "            self.l2 = L.Linear(None, n_units)  # n_units -> n_units\n",
    "            self.l3 = L.Linear(None, n_out)  # n_units -> n_out\n",
    "\n",
    "    def __call__(self, x):\n",
    "        # *** YOUR CODE HERE TO BUILD AN MLP W/ self.l1, self.l2, self.l3 ***\n",
    "        # \n",
    "        # Hint: you should make use of non-linearities / activation functions\n",
    "        #     https://docs.chainer.org/en/stable/reference/functions.html#activation-functions\n",
    "        \n",
    "        \n",
    "        l1out = F.relu(self.l1(x))\n",
    "        l2out = F.relu(self.l2(l1out))\n",
    "        l3out = F.softmax(self.l3(l2out))\n",
    "        \n",
    "        return l3out\n",
    "        \n",
    "        \n",
    "run(MLP(200, 10))"
   ]
  },
  {
   "cell_type": "markdown",
   "metadata": {},
   "source": [
    "Next you should try to implement logging test loss and see if the model is overfitting."
   ]
  },
  {
   "cell_type": "code",
   "execution_count": 23,
   "metadata": {},
   "outputs": [
    {
     "name": "stdout",
     "output_type": "stream",
     "text": [
      "test_loss: 2.29943; test_accuracy: 0.1481; accuracy: 0.0625; loss: 2.30222678185\n",
      "test_loss: 1.57824; test_accuracy: 0.8937; accuracy: 0.885; loss: 1.58516106129\n",
      "test_loss: 1.5483; test_accuracy: 0.9179; accuracy: 0.9075; loss: 1.56067564011\n",
      "test_loss: 1.54254; test_accuracy: 0.9222; accuracy: 0.91; loss: 1.5546000433\n",
      "test_loss: 1.5402; test_accuracy: 0.925; accuracy: 0.9275; loss: 1.53701650143\n",
      "test_loss: 1.53044; test_accuracy: 0.9324; accuracy: 0.935; loss: 1.53406917095\n",
      "test_loss: 1.52672; test_accuracy: 0.9368; accuracy: 0.9275; loss: 1.53031046391\n",
      "test_loss: 1.52025; test_accuracy: 0.9424; accuracy: 0.9475; loss: 1.51958513737\n",
      "test_loss: 1.51881; test_accuracy: 0.9442; accuracy: 0.95; loss: 1.51476657867\n",
      "test_loss: 1.51415; test_accuracy: 0.9481; accuracy: 0.935; loss: 1.52269706249\n",
      "test_loss: 1.533; test_accuracy: 0.9295; accuracy: 0.9125; loss: 1.55116045952\n",
      "test_loss: 1.51686; test_accuracy: 0.9449; accuracy: 0.93; loss: 1.53444163799\n",
      "test_loss: 1.51872; test_accuracy: 0.9435; accuracy: 0.9375; loss: 1.51753781796\n",
      "test_loss: 1.5072; test_accuracy: 0.9545; accuracy: 0.95; loss: 1.50515562534\n",
      "test_loss: 1.50766; test_accuracy: 0.9534; accuracy: 0.9625; loss: 1.49985912323\n",
      "test_loss: 1.50851; test_accuracy: 0.9521; accuracy: 0.95; loss: 1.51402085781\n",
      "test_loss: 1.50526; test_accuracy: 0.9558; accuracy: 0.955; loss: 1.50391721725\n",
      "test_loss: 1.50331; test_accuracy: 0.9581; accuracy: 0.9425; loss: 1.52006900787\n",
      "test_loss: 1.5026; test_accuracy: 0.9585; accuracy: 0.94; loss: 1.51892239571\n",
      "test_loss: 1.50616; test_accuracy: 0.9551; accuracy: 0.9675; loss: 1.49281422138\n",
      "test_loss: 1.51583; test_accuracy: 0.9457; accuracy: 0.9425; loss: 1.51880861759\n",
      "test_loss: 1.50766; test_accuracy: 0.954; accuracy: 0.9375; loss: 1.52135732174\n",
      "test_loss: 1.50505; test_accuracy: 0.9567; accuracy: 0.97; loss: 1.49121604919\n",
      "test_loss: 1.50492; test_accuracy: 0.956; accuracy: 0.9475; loss: 1.51342416763\n",
      "test_loss: 1.5051; test_accuracy: 0.9563; accuracy: 0.9625; loss: 1.5014046526\n",
      "test_loss: 1.5056; test_accuracy: 0.9557; accuracy: 0.9275; loss: 1.53569440365\n"
     ]
    }
   ],
   "source": [
    "def better_run(model, batchsize=16, num_epochs=2):\n",
    "\n",
    "    optimizer = chainer.optimizers.Adam() # we will use chainer's Adam implementation instead of writing our own gradient based optimization\n",
    "    optimizer.setup(model)\n",
    "    \n",
    "    stats = defaultdict(lambda: deque(maxlen=25))\n",
    "    for epoch in range(num_epochs):\n",
    "        train_iter = chainer.iterators.SerialIterator(train, batchsize, repeat=False, shuffle=True)\n",
    "        for itr, batch in enumerate(train_iter):\n",
    "            xs = np.concatenate([datum[0][None, :] for datum in batch])\n",
    "            ys = np.array([datum[1] for datum in batch])\n",
    "\n",
    "            logits = model(xs)\n",
    "\n",
    "            loss = F.softmax_cross_entropy(logits, ys)\n",
    "            model.cleargrads()\n",
    "            loss.backward()\n",
    "            optimizer.update()\n",
    "            \n",
    "            # calculate stats\n",
    "            stats[\"loss\"].append(float(loss.data))\n",
    "            stats[\"accuracy\"].append(float((logits.data.argmax(1) == ys).sum() / batchsize))\n",
    "            \n",
    "            if itr % 300 == 0:\n",
    "                \n",
    "                test_iter = chainer.iterators.SerialIterator(test, batchsize, repeat=False, shuffle=False)\n",
    "                # *** YOUR CODE implement logging of stats on test set ***\n",
    "                \n",
    "                xs = np.concatenate([datum[0][None, :] for datum in test])\n",
    "                ys = np.array([datum[1] for datum in test])\n",
    "                logits = model(xs)\n",
    "                stats[\"test_accuracy\"] = F.accuracy(logits, ys).data\n",
    "                stats[\"test_loss\"] = F.softmax_cross_entropy(logits, ys).data\n",
    "                \n",
    "                \n",
    "                print(\"; \".join(\"%s: %s\" % (k, np.mean(vs)) for k, vs in stats.items()))\n",
    "                \n",
    "\n",
    "better_run(MLP(200, 10))"
   ]
  },
  {
   "cell_type": "markdown",
   "metadata": {},
   "source": [
    "Try different variants!\n",
    "\n",
    "- Does using a ConvNet improve performance (reduce overfitting?)\n",
    "- Try changing the learning rate and observe the effect\n",
    "- Does the model train if you give it correlated gradients? (consecutively sample many batches of \"1\", then many batches of \"2\", ... etc"
   ]
  }
 ],
 "metadata": {
  "kernelspec": {
   "display_name": "Python 3",
   "language": "python",
   "name": "python3"
  },
  "language_info": {
   "codemirror_mode": {
    "name": "ipython",
    "version": 3
   },
   "file_extension": ".py",
   "mimetype": "text/x-python",
   "name": "python",
   "nbconvert_exporter": "python",
   "pygments_lexer": "ipython3",
   "version": "3.5.3"
  }
 },
 "nbformat": 4,
 "nbformat_minor": 1
}
